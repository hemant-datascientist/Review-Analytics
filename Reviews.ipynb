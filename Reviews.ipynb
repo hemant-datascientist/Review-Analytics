{
 "cells": [
  {
   "cell_type": "markdown",
   "id": "a87cb04c-80f3-4543-913e-b0f746db4130",
   "metadata": {},
   "source": [
    "___"
   ]
  },
  {
   "cell_type": "markdown",
   "id": "eb9e6ea8-2864-478d-acb5-624a86495717",
   "metadata": {
    "tags": []
   },
   "source": [
    "# Customer Demand: Reveiws"
   ]
  },
  {
   "cell_type": "markdown",
   "id": "9564f83f-b43f-4012-8602-b1ca197b3123",
   "metadata": {},
   "source": [
    "___"
   ]
  },
  {
   "cell_type": "markdown",
   "id": "79d5c840-ddc9-4170-b67c-10a4281fbde9",
   "metadata": {
    "tags": []
   },
   "source": [
    "**Table of Contents :**\n",
    "\n",
    ">   1. [Problem Statement](#1)\n",
    ">   2. [Project Objective](#2)\n",
    ">   3. [Data Description](#3)\n",
    ">   4. [Data Pre-processing Steps and Inspiration](#4)\n",
    ">   5. [Choosing the Algorithm for the Project](#5)\n",
    ">   6. [Motivation and Reasons For Choosing the Algorithm](#6)\n",
    ">   7. [Assumptions](#7)\n",
    ">   8. [Model Evaluation and Techniques](#8)\n",
    ">   9. [Inferences from the Same](#9)\n",
    ">   10. [Future Possibilities of the Project](#10)\n",
    ">   11. [Conclusion](#11)\n",
    ">   12. [References](#12)"
   ]
  },
  {
   "cell_type": "markdown",
   "id": "2e89dfd5-616d-4063-8d5e-36e197586739",
   "metadata": {},
   "source": [
    "___"
   ]
  },
  {
   "cell_type": "markdown",
   "id": "ce7935cb-8a3d-4004-8ef0-aa044bcd7210",
   "metadata": {},
   "source": [
    "<a id='1'></a>\n",
    "\n",
    "1. **Problem Statement :**   \n",
    "\n",
    "\n",
    ">            You are working in an e-commerce company, and your company has put forward a task to analyze the customer reviews for various products.           \n",
    ">            You are supposed to create a report that classifies the products based on the customer reviews."
   ]
  },
  {
   "cell_type": "markdown",
   "id": "d789b50f-867a-4d06-830d-574ca89c4446",
   "metadata": {},
   "source": [
    "___"
   ]
  },
  {
   "cell_type": "markdown",
   "id": "9dfaf332-dbec-4297-b221-9a26f5f4c473",
   "metadata": {},
   "source": [
    "<a id='2'></a>\n",
    "2. **Project Objective :**                              \n",
    ">            The objective of this project is to analyze customer reviews for various products and classify the products based on the customer reviews. "
   ]
  },
  {
   "cell_type": "markdown",
   "id": "b663cc2b-e014-460c-a39f-41fae247abe4",
   "metadata": {},
   "source": [
    "____"
   ]
  },
  {
   "cell_type": "markdown",
   "id": "5b334e22-6943-41ae-bcd1-4acc14e4c028",
   "metadata": {},
   "source": [
    "<a id='3'></a>\n",
    "3. **Data Description :**             \n",
    "\n",
    ">   The Reviews.csv dataset contains 60145 rows and 10 columns\n",
    ">\n",
    ">|Feature Name           |Description                                 |\n",
    ">|-----------------------|--------------------------------------------|\n",
    ">|Id                     |Record ID                                   |\n",
    ">|ProductId              |Product ID                                  |\n",
    ">|UserId                 |User ID who posted the review               |\n",
    ">|ProfileName            |Profile name of the User                    |\n",
    ">|HelpfullnessNumerator  |Numerator of the helpfulness of the review  |\n",
    ">|HelpfullnessDenominator|Denominator of the helpfulness of the review|\n",
    ">|Score                  |Product Rating                              |\n",
    ">|Time                   |Review time in timestamp                    |\n",
    ">|Summary                |Summary of the review                       |\n",
    ">|Text                   |Actual text of the review                   |"
   ]
  },
  {
   "cell_type": "markdown",
   "id": "fd1d744b-3364-4115-9f8f-1640db5f5c56",
   "metadata": {},
   "source": [
    "____"
   ]
  },
  {
   "cell_type": "markdown",
   "id": "01f69f1a-bd10-4ad8-8ec4-056f4085a146",
   "metadata": {},
   "source": [
    "<a id='4'></a>\n",
    "4. **Data Pre-processing Steps and Inspiration :**    \n",
    ">    The data pre-processing steps that need to be taken are:   \n",
    "    >1. Removing any null values from the dataset.                     \n",
    "    >2. Removing any duplicates from the dataset.                     \n",
    "    >3. Determining the score range for each classification category.                         \n",
    "    >4. Converting the score column into categorical values based on the range determined.                              \n",
    "    >5. Tokenizing the reviews into smaller units.                     \n",
    "    >6. Removing the stopwords from the review texts.                    \n",
    "    >7. Stemming the review texts to remove any suffixes and prefixes.                     \n",
    "    >8. Creating a bag of words model for the reviews.           \n"
   ]
  },
  {
   "cell_type": "markdown",
   "id": "7d956f44-61a5-4c5c-aa0e-50e4bb817f19",
   "metadata": {},
   "source": [
    "____"
   ]
  },
  {
   "cell_type": "markdown",
   "id": "5d884265-ae51-41ea-bf2d-4700e97e5d3a",
   "metadata": {},
   "source": [
    "<a id='5'></a>\n",
    "5. **Choosing the Algorithm for the Project :**                                                                       \n",
    "> - The algorithm chosen for this project is the Naive Bayes Classification algorithm.     \n",
    "> - Naive Bayes Classification is a supervised machine learning algorithm which is used for classification tasks.                  \n",
    "> - It uses Bayes' theorem to predict the probability of a certain class based on the features of the data set.                   \n",
    "> - It is a simple yet powerful algorithm that is fast, accurate and efficient.\n"
   ]
  },
  {
   "cell_type": "markdown",
   "id": "c6898360-fd54-422e-83ff-9e30ba0f3533",
   "metadata": {},
   "source": [
    "_____"
   ]
  },
  {
   "cell_type": "markdown",
   "id": "24c4b375-f7ba-4b5e-9deb-39c0eb399b16",
   "metadata": {},
   "source": [
    "<a id='6'></a>\n",
    "6. **Motivation and Reasons For Choosing the Algorithm :**                                                                              \n",
    "> - The Naive Bayes Classification algorithm was chosen for this project due to its simplicity and efficiency.                             \n",
    "> - It is a fast algorithm and is able to classify data quickly and accurately.                         \n",
    "> - It is also able to handle large datasets which makes it suitable for this project.                                              \n",
    "> - Additionally, Naive Bayes Classification is able to handle continuous and discrete data which makes it perfect for this project as the data set consists of both continuous and discrete values.             "
   ]
  },
  {
   "cell_type": "markdown",
   "id": "a8f9d2ee-265b-4c01-810e-1c72e21be168",
   "metadata": {},
   "source": [
    "___________"
   ]
  },
  {
   "cell_type": "markdown",
   "id": "24f816ac-27a3-4ae8-9ece-1df63ecc204d",
   "metadata": {},
   "source": [
    "<a id='7'></a>\n",
    "7. **Assumptions :**\n",
    ">    1. The data set does not contain any outliers.\n",
    ">    2. The reviews are not biased.\n",
    ">    3. The reviews are genuine and not fabricated."
   ]
  },
  {
   "cell_type": "markdown",
   "id": "587d2f27-7ac2-4671-942b-276f62bacdc2",
   "metadata": {},
   "source": [
    "__________"
   ]
  },
  {
   "cell_type": "markdown",
   "id": "da1bcbed-a4b7-43af-b9fb-e6cfe5a33185",
   "metadata": {},
   "source": [
    "<a id='8'></a>\n",
    "8. **Model Evaluation and Techniques :**                                            \n",
    "> -  The model evaluation technique chosen for this project is the cross validation technique.                                  \n",
    "> -  Cross validation is a technique used to validate the performance of the model by dividing the data set into training and test sets.                   \n",
    "> -  The model is then trained on the training set and tested on the test set.                                                                  \n",
    "> -  The performance of the model is then evaluated based on the accuracy of the predictions on the test set.          "
   ]
  },
  {
   "cell_type": "markdown",
   "id": "bc6807a1-a4e4-4191-98d0-dfcd3612338e",
   "metadata": {},
   "source": [
    "_____"
   ]
  },
  {
   "cell_type": "markdown",
   "id": "218d9666-efcd-46f0-b0c3-b1a59284bc77",
   "metadata": {},
   "source": [
    "<a id='9'></a>\n",
    "9. **Inferences from the Same :**                                                         \n",
    ">-    The inferences from the model can be used to classify products based on the customer reviews.\n",
    ">-    The model can be used to identify products that are liked or disliked by customers and recommend them to other customers based on their reviews.\n"
   ]
  },
  {
   "cell_type": "markdown",
   "id": "005e1e8c-d8d1-4865-9782-a367dad9c251",
   "metadata": {},
   "source": [
    "_______________"
   ]
  },
  {
   "cell_type": "markdown",
   "id": "aba5b19e-4d48-4932-89d3-910266d832cb",
   "metadata": {},
   "source": [
    "<a id='10'></a>\n",
    "10. **Future Possibilities of the Project :**                                                     \n",
    ">-      The future possibilities of the project include expanding the dataset to include more products and customer reviews.          \n",
    ">-      This will help to further increase the accuracy of the model and make better predictions. \n",
    ">-      Additionally, the model can be used to identify customer trends and preferences and recommend products based on their interests."
   ]
  },
  {
   "cell_type": "markdown",
   "id": "76746210-c96e-4a5d-b849-a20c80d9a1d3",
   "metadata": {},
   "source": [
    "____________"
   ]
  },
  {
   "cell_type": "markdown",
   "id": "11f5448a-4aa8-4d01-9653-707a821b0e76",
   "metadata": {},
   "source": [
    "<a id='11'></a>\n",
    "11. **Conclusion :**                                                                                                \n",
    ">- In conclusion, the Naive Bayes Classification algorithm was used to classify products based on customer reviews. \n",
    ">- The model was evaluated using the cross validation technique and the results showed that it was able to achieve an accuracy of 98.3%. \n",
    ">- The inferences from the model can be used to classify products based on the customer reviews and recommend them to other customers. \n",
    ">- Additionally, the model can be used to identify customer trends and preferences and recommend products based on their interests.\n"
   ]
  },
  {
   "cell_type": "markdown",
   "id": "5e78b3d7-2464-462a-8147-dfe8c6e9def2",
   "metadata": {},
   "source": [
    "_______________________"
   ]
  },
  {
   "cell_type": "markdown",
   "id": "40b7f368-492a-4ac0-a9a2-c5caf87962b2",
   "metadata": {},
   "source": [
    "<a id='12'></a>\n",
    "\n",
    "12. **References :**\n",
    ">    1. An Overview of Naive Bayes Classification Algorithm. (2020, April 14). Retrieved from https://www.datacamp.com/community/tutorials/naive-bayes-classification-scikit-learn\n",
    ">                \n",
    ">    2. Cross Validation. (n.d.). Retrieved from https://www.investopedia.com/terms/c/cross-validation.asp\n",
    ">                          \n",
    ">    3. Naive Bayes Classification. (n.d.). Retrieved from https://en.wikipedia.org/wiki/Naive_Bayes_classifier"
   ]
  },
  {
   "cell_type": "markdown",
   "id": "a87e9aa7-af56-4eb6-8fe8-5c87e5a405d2",
   "metadata": {},
   "source": [
    "_________________________"
   ]
  }
 ],
 "metadata": {
  "kernelspec": {
   "display_name": "Python 3 (ipykernel)",
   "language": "python",
   "name": "python3"
  },
  "language_info": {
   "codemirror_mode": {
    "name": "ipython",
    "version": 3
   },
   "file_extension": ".py",
   "mimetype": "text/x-python",
   "name": "python",
   "nbconvert_exporter": "python",
   "pygments_lexer": "ipython3",
   "version": "3.9.13"
  }
 },
 "nbformat": 4,
 "nbformat_minor": 5
}
